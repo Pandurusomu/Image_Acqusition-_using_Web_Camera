{
 "cells": [
  {
   "cell_type": "markdown",
   "id": "c8f9fa00-16df-4696-87d8-8b664c562c8b",
   "metadata": {},
   "source": [
    "# name : Pa"
   ]
  },
  {
   "cell_type": "code",
   "execution_count": null,
   "id": "8044af46-3efa-4853-ae07-577bae87ab50",
   "metadata": {},
   "outputs": [],
   "source": [
    "import cv2\n",
    "import matplotlib.pyplot as plt\n",
    "from IPython.display import clear_output\n",
    "import time\n",
    "cap = cv2.VideoCapture(0)\n",
    "ret, frame = cap.read()\n",
    "if ret:\n",
    "    cv2.imwrite(\"captured_frame.jpg\", frame)\n",
    "cap.release()\n",
    "captured_image = cv2.imread('captured_frame.jpg')\n",
    "plt.imshow(captured_image[:,:,::-1])\n",
    "plt.title('Captured Frame')\n",
    "plt.axis('off')\n",
    "plt.show()"
   ]
  },
  {
   "cell_type": "code",
   "execution_count": null,
   "id": "309bf2a2-cfea-4d6e-8b37-70e35e837d6f",
   "metadata": {},
   "outputs": [],
   "source": [
    "cap = cv2.VideoCapture(0)\n",
    "\n",
    "for i in range(50):\n",
    "    ret, frame = cap.read()\n",
    "    if not ret:\n",
    "        break\n",
    "    frame_rgb = cv2.cvtColor(frame, cv2.COLOR_BGR2RGB)\n",
    "    clear_output(wait=True)\n",
    "    plt.imshow(frame_rgb)\n",
    "    plt.axis('off')\n",
    "    plt.show()\n",
    "    time.sleep(0.05)\n",
    "\n",
    "cap.release()"
   ]
  },
  {
   "cell_type": "code",
   "execution_count": null,
   "id": "4b7154e4-d3f4-4564-8ebb-4e61f1c51be5",
   "metadata": {},
   "outputs": [],
   "source": [
    "cap = cv2.VideoCapture(0)\n",
    "\n",
    "for i in range(50):\n",
    "    ret, frame = cap.read()\n",
    "    if not ret:\n",
    "        break\n",
    "    resized_frame = cv2.resize(frame, (100, 150))  # Resize to 320x240\n",
    "    frame_rgb = cv2.cvtColor(resized_frame, cv2.COLOR_BGR2RGB)\n",
    "    clear_output(wait=True)\n",
    "    plt.imshow(frame_rgb)\n",
    "    plt.axis('off')\n",
    "    plt.show()\n",
    "    time.sleep(0.05)\n",
    "\n",
    "cap.release()"
   ]
  },
  {
   "cell_type": "code",
   "execution_count": null,
   "id": "30aabbe6-3393-4c2a-a32e-ae3102ec02bd",
   "metadata": {},
   "outputs": [],
   "source": [
    "cap = cv2.VideoCapture(0)\n",
    "\n",
    "for i in range(50):\n",
    "    ret, frame = cap.read()\n",
    "    if not ret:\n",
    "        break\n",
    "    rotated_frame = cv2.rotate(frame, cv2.ROTATE_90_CLOCKWISE)\n",
    "    frame_rgb = cv2.cvtColor(rotated_frame, cv2.COLOR_BGR2RGB)\n",
    "    clear_output(wait=True)\n",
    "    plt.imshow(frame_rgb)\n",
    "    plt.axis('off')\n",
    "    plt.show()\n",
    "    time.sleep(0.05)\n",
    "\n",
    "cap.release()"
   ]
  }
 ],
 "metadata": {
  "kernelspec": {
   "display_name": "Python 3 (ipykernel)",
   "language": "python",
   "name": "python3"
  },
  "language_info": {
   "codemirror_mode": {
    "name": "ipython",
    "version": 3
   },
   "file_extension": ".py",
   "mimetype": "text/x-python",
   "name": "python",
   "nbconvert_exporter": "python",
   "pygments_lexer": "ipython3",
   "version": "3.11.13"
  }
 },
 "nbformat": 4,
 "nbformat_minor": 5
}
